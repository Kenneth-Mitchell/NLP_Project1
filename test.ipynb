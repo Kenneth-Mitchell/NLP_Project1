{
 "cells": [
  {
   "cell_type": "code",
   "execution_count": 10,
   "metadata": {},
   "outputs": [
    {
     "name": "stderr",
     "output_type": "stream",
     "text": [
      "/usr/local/lib/python3.11/site-packages/tqdm/auto.py:21: TqdmWarning: IProgress not found. Please update jupyter and ipywidgets. See https://ipywidgets.readthedocs.io/en/stable/user_install.html\n",
      "  from .autonotebook import tqdm as notebook_tqdm\n"
     ]
    }
   ],
   "source": [
    "import pandas as pd\n",
    "from frame_semantic_transformer import FrameSemanticTransformer\n",
    "frame_transformer = FrameSemanticTransformer()"
   ]
  },
  {
   "cell_type": "markdown",
   "metadata": {},
   "source": [
    "Load semeval data:\n"
   ]
  },
  {
   "cell_type": "code",
   "execution_count": null,
   "metadata": {},
   "outputs": [],
   "source": [
    "test_data = pd.read_csv('subtaskC_dev_data.csv')\n",
    "df = pd.DataFrame(test_data, columns=['id', 'FalseSent'])"
   ]
  },
  {
   "cell_type": "markdown",
   "metadata": {},
   "source": [
    "Function for printing results:"
   ]
  },
  {
   "cell_type": "code",
   "execution_count": 52,
   "metadata": {},
   "outputs": [],
   "source": [
    "def print_results(result):\n",
    "    print(f\"Results found in: {result.sentence}\\n\")\n",
    "    for frame in result.frames:\n",
    "        print(f\"FRAME: {frame.name}\")\n",
    "        for element in frame.frame_elements:\n",
    "            print(f\"{element.name}: {element.text}\")\n",
    "    print(\"\\n\")"
   ]
  },
  {
   "cell_type": "markdown",
   "metadata": {},
   "source": [
    "Testing extracting frames for a given sentence id:"
   ]
  },
  {
   "cell_type": "code",
   "execution_count": 47,
   "metadata": {},
   "outputs": [
    {
     "name": "stderr",
     "output_type": "stream",
     "text": [
      "/usr/local/lib/python3.11/site-packages/transformers/generation/configuration_utils.py:415: UserWarning: `do_sample` is set to `False`. However, `top_p` is set to `0.95` -- this flag is only used in sample-based generation modes. You should set `do_sample=True` or unset `top_p`.\n",
      "  warnings.warn(\n"
     ]
    },
    {
     "name": "stdout",
     "output_type": "stream",
     "text": [
      "Results found in: You can use detergent to dye your hair.\n",
      "\n",
      "FRAME: Capability\n",
      "Entity: You\n",
      "Event: use detergent to dye your hair\n",
      "FRAME: Using\n",
      "Agent: You\n",
      "Instrument: detergent\n",
      "Purpose: to dye your hair\n",
      "FRAME: Body_parts\n",
      "Possessor: your\n",
      "Body_part: hair\n"
     ]
    }
   ],
   "source": [
    "test_id = 1\n",
    "\n",
    "result = frame_transformer.detect_frames(df.loc[test_id, 'FalseSent'])\n",
    "print_results(result)"
   ]
  },
  {
   "cell_type": "code",
   "execution_count": 48,
   "metadata": {},
   "outputs": [
    {
     "data": {
      "text/plain": [
       "'You'"
      ]
     },
     "execution_count": 48,
     "metadata": {},
     "output_type": "execute_result"
    }
   ],
   "source": [
    "result.frames[0].frame_elements[0].text"
   ]
  },
  {
   "cell_type": "code",
   "execution_count": 49,
   "metadata": {},
   "outputs": [
    {
     "data": {
      "text/plain": [
       "'Entity'"
      ]
     },
     "execution_count": 49,
     "metadata": {},
     "output_type": "execute_result"
    }
   ],
   "source": [
    "result.frames[0].frame_elements[0].name"
   ]
  },
  {
   "cell_type": "code",
   "execution_count": 50,
   "metadata": {},
   "outputs": [
    {
     "data": {
      "text/plain": [
       "'Capability'"
      ]
     },
     "execution_count": 50,
     "metadata": {},
     "output_type": "execute_result"
    }
   ],
   "source": [
    "result.frames[0].name"
   ]
  },
  {
   "cell_type": "markdown",
   "metadata": {},
   "source": [
    "Getting result for a subset of the sentences (can take a while):"
   ]
  },
  {
   "cell_type": "code",
   "execution_count": 34,
   "metadata": {},
   "outputs": [
    {
     "name": "stderr",
     "output_type": "stream",
     "text": [
      "/usr/local/lib/python3.11/site-packages/transformers/generation/configuration_utils.py:415: UserWarning: `do_sample` is set to `False`. However, `top_p` is set to `0.95` -- this flag is only used in sample-based generation modes. You should set `do_sample=True` or unset `top_p`.\n",
      "  warnings.warn(\n"
     ]
    }
   ],
   "source": [
    "df_sample = df.sample(10)\n",
    "df_sample['result'] = None\n",
    "\n",
    "for index, row in df_sample.iterrows():\n",
    "    df_sample.loc[index, 'result'] = frame_transformer.detect_frames(row['FalseSent'])"
   ]
  },
  {
   "cell_type": "code",
   "execution_count": 53,
   "metadata": {},
   "outputs": [
    {
     "name": "stdout",
     "output_type": "stream",
     "text": [
      "Results found in: He cooked a pot inside of spaghetti.\n",
      "\n",
      "FRAME: Apply_heat\n",
      "Cook: He\n",
      "Food: a pot\n",
      "Heating_instrument: inside of spaghetti\n",
      "FRAME: Containers\n",
      "Container: pot\n",
      "\n",
      "\n",
      "Results found in: The Escaping Thief Gave final warning to the Cops\n",
      "\n",
      "FRAME: Warning\n",
      "Speaker: The Escaping Thief\n",
      "Addressee: to the Cops\n",
      "\n",
      "\n",
      "Results found in: my child takes the plane to go to school\n",
      "\n",
      "FRAME: Kinship\n",
      "Ego: my\n",
      "Alter: child\n",
      "FRAME: Ride_vehicle\n",
      "Theme: my child\n",
      "Vehicle: the plane\n",
      "Purpose: to go to school\n",
      "FRAME: Vehicle\n",
      "Vehicle: plane\n",
      "FRAME: Motion\n",
      "Theme: my child\n",
      "Goal: to school\n",
      "FRAME: Locale_by_use\n",
      "Locale: school\n",
      "\n",
      "\n",
      "Results found in: There was a pop singer running in the sky.\n",
      "\n",
      "FRAME: Existence\n",
      "Entity: a pop singer running in the sky\n",
      "FRAME: Communication_manner\n",
      "Speaker: singer\n",
      "FRAME: Self_motion\n",
      "Self_mover: a pop singer\n",
      "Place: in the sky\n",
      "\n",
      "\n",
      "Results found in: the spoon is used in the mining industry\n",
      "\n",
      "FRAME: Using\n",
      "Instrument: the spoon\n",
      "Place: in the mining industry\n",
      "FRAME: Fields\n",
      "Activity: mining\n",
      "\n",
      "\n",
      "Results found in: You are likely to find a fish in a cruet\n",
      "\n",
      "FRAME: Likelihood\n",
      "Hypothetical_event: to find a fish in a cruet\n",
      "FRAME: Becoming_aware\n",
      "Cognizer: You\n",
      "Phenomenon: a fish\n",
      "Ground: in a cruet\n",
      "FRAME: Containers\n",
      "Container: cruet\n",
      "\n",
      "\n",
      "Results found in: Dust collects vacuum\n",
      "\n",
      "FRAME: Gathering_up\n",
      "Aggregate: Dust\n",
      "Manner: vacuum\n",
      "\n",
      "\n",
      "Results found in: there were dinosaurs at the pond\n",
      "\n",
      "FRAME: Locative_relation\n",
      "Figure: dinosaurs\n",
      "Ground: the pond\n",
      "\n",
      "\n",
      "Results found in: doing some exercises makes you cold\n",
      "\n",
      "FRAME: Practice\n",
      "Occasion: exercises\n",
      "FRAME: Causation\n",
      "Cause: doing some exercises\n",
      "Effect: cold\n",
      "FRAME: Ambient_temperature\n",
      "\n",
      "\n",
      "Results found in: she painted the earth red\n",
      "\n",
      "FRAME: Filling\n",
      "Agent: she\n",
      "Theme: the earth\n",
      "Result: red\n",
      "\n",
      "\n"
     ]
    },
    {
     "data": {
      "text/plain": [
       "214    None\n",
       "416    None\n",
       "79     None\n",
       "525    None\n",
       "989    None\n",
       "856    None\n",
       "188    None\n",
       "937    None\n",
       "126    None\n",
       "589    None\n",
       "Name: result, dtype: object"
      ]
     },
     "execution_count": 53,
     "metadata": {},
     "output_type": "execute_result"
    }
   ],
   "source": [
    "df_sample['result'].apply(print_results)"
   ]
  }
 ],
 "metadata": {
  "kernelspec": {
   "display_name": "Python 3",
   "language": "python",
   "name": "python3"
  },
  "language_info": {
   "codemirror_mode": {
    "name": "ipython",
    "version": 3
   },
   "file_extension": ".py",
   "mimetype": "text/x-python",
   "name": "python",
   "nbconvert_exporter": "python",
   "pygments_lexer": "ipython3",
   "version": "3.11.5"
  }
 },
 "nbformat": 4,
 "nbformat_minor": 2
}
