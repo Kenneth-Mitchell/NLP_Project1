{
 "cells": [
  {
   "cell_type": "code",
   "execution_count": 149,
   "metadata": {},
   "outputs": [
    {
     "name": "stdout",
     "output_type": "stream",
     "text": [
      "The autoreload extension is already loaded. To reload it, use:\n",
      "  %reload_ext autoreload\n"
     ]
    }
   ],
   "source": [
    "import pandas as pd\n",
    "import task_C_scorer\n",
    "%load_ext autoreload\n",
    "%autoreload 2"
   ]
  },
  {
   "cell_type": "code",
   "execution_count": 150,
   "metadata": {},
   "outputs": [],
   "source": [
    "test_data = pd.read_csv('subtaskC_dev_data.csv')\n",
    "df = pd.DataFrame(test_data, columns=['id', 'FalseSent'])"
   ]
  },
  {
   "cell_type": "markdown",
   "metadata": {},
   "source": [
    "\"no\" + sentence with no space gets the best score..."
   ]
  },
  {
   "cell_type": "code",
   "execution_count": 151,
   "metadata": {},
   "outputs": [],
   "source": [
    "def negation(sentence):\n",
    "    final_sentence = 'no' + sentence\n",
    "    return final_sentence"
   ]
  },
  {
   "cell_type": "code",
   "execution_count": 152,
   "metadata": {},
   "outputs": [],
   "source": [
    "df['Negation'] = df['FalseSent'].apply(negation)"
   ]
  },
  {
   "cell_type": "code",
   "execution_count": 153,
   "metadata": {},
   "outputs": [],
   "source": [
    "df.to_csv('predictions.csv', index=False, columns=['id', 'Negation'], header=False)"
   ]
  },
  {
   "cell_type": "code",
   "execution_count": 154,
   "metadata": {},
   "outputs": [],
   "source": [
    "predictions = task_C_scorer.read_predictions('predictions.csv')\n",
    "ground_truth = task_C_scorer.read_references('subtaskC_gold_answers.csv')"
   ]
  },
  {
   "cell_type": "code",
   "execution_count": 155,
   "metadata": {},
   "outputs": [
    {
     "data": {
      "text/plain": [
       "14.258729372762158"
      ]
     },
     "execution_count": 155,
     "metadata": {},
     "output_type": "execute_result"
    }
   ],
   "source": [
    "task_C_scorer.calculate_bleu(ground_truth, predictions)*100"
   ]
  },
  {
   "cell_type": "code",
   "execution_count": 156,
   "metadata": {},
   "outputs": [
    {
     "data": {
      "text/plain": [
       "0    noSummer in North America is great for skiing,...\n",
       "1            noYou can use detergent to dye your hair.\n",
       "2    nopassing your driving license exams requires ...\n",
       "3                      noThe hangers bought the closet\n",
       "4                            nocoffee depresses people\n",
       "5                           noThe cat used the toilet.\n",
       "6                          noHe wrote an exam in knife\n",
       "7                            nohe gave birth to a baby\n",
       "8                         noChicken can swim in water.\n",
       "9                          noA stick wants to have sex\n",
       "Name: Negation, dtype: object"
      ]
     },
     "execution_count": 156,
     "metadata": {},
     "output_type": "execute_result"
    }
   ],
   "source": [
    "df['Negation'].head(10)"
   ]
  }
 ],
 "metadata": {
  "kernelspec": {
   "display_name": "Python 3",
   "language": "python",
   "name": "python3"
  },
  "language_info": {
   "codemirror_mode": {
    "name": "ipython",
    "version": 3
   },
   "file_extension": ".py",
   "mimetype": "text/x-python",
   "name": "python",
   "nbconvert_exporter": "python",
   "pygments_lexer": "ipython3",
   "version": "3.11.5"
  }
 },
 "nbformat": 4,
 "nbformat_minor": 2
}
